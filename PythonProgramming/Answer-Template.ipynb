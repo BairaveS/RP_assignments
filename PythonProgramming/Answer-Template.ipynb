{
 "cells": [
  {
   "cell_type": "markdown",
   "metadata": {},
   "source": [
    "# AIITP - Python Programming (Intake 3)\n",
    "\n",
    "### Assignment (Due 3 June 2022 2359)"
   ]
  },
  {
   "cell_type": "markdown",
   "metadata": {},
   "source": [
    "#### Instructions:\n",
    "\n",
    "1) Do refer to the Assignment hand-out.\n",
    "2) This the answer template that you can use, as reponse to the assignment. Rename it accordingly to the following naming convention - AY22_AII008_PP_YourName_StudentID.ipynb\n"
   ]
  },
  {
   "cell_type": "markdown",
   "metadata": {},
   "source": [
    "***"
   ]
  },
  {
   "cell_type": "markdown",
   "metadata": {},
   "source": [
    "Question 1:"
   ]
  },
  {
   "cell_type": "code",
   "execution_count": 2,
   "metadata": {},
   "outputs": [
    {
     "name": "stdout",
     "output_type": "stream",
     "text": [
      "Entered text:  aeiou\n",
      "Replaced text: eioua\n",
      "Reverse text: uoiea\n"
     ]
    }
   ],
   "source": [
    "# Write Python code for Question 1 here\n",
    "#I-text\n",
    "#P-Replace, Reverse\n",
    "#O-Print,Replace, Reverse\n",
    "\n",
    "text = input(\"Enter a text: \")\n",
    "char_to_replace = {\"a\":\"e\", \"e\":\"i\", \"i\":\"o\", \"o\":\"u\", \"u\":\"a\"}\n",
    "result = ''\n",
    "for elem in text:\n",
    "    if elem in char_to_replace:\n",
    "        result += char_to_replace[elem]\n",
    "    else:\n",
    "        result += elem\n",
    "\n",
    "# The original string is unchanged\n",
    "print('Entered text: ', text)\n",
    "\n",
    "print('Replaced text:', result)\n",
    "\n",
    "rev_text = text[::-1]\n",
    "print('Reverse text:', rev_text)\n",
    "\n"
   ]
  },
  {
   "cell_type": "markdown",
   "metadata": {},
   "source": [
    "Question 2:"
   ]
  },
  {
   "cell_type": "code",
   "execution_count": 3,
   "metadata": {},
   "outputs": [
    {
     "name": "stdout",
     "output_type": "stream",
     "text": [
      "Requirement already satisfied: openpyxl in c:\\programdata\\anaconda3\\lib\\site-packages (3.0.9)Note: you may need to restart the kernel to use updated packages.\n",
      "Requirement already satisfied: et-xmlfile in c:\\programdata\\anaconda3\\lib\\site-packages (from openpyxl) (1.1.0)\n",
      "\n"
     ]
    }
   ],
   "source": [
    "%pip install openpyxl"
   ]
  },
  {
   "cell_type": "code",
   "execution_count": 5,
   "metadata": {},
   "outputs": [
    {
     "name": "stdout",
     "output_type": "stream",
     "text": [
      "location:DPRK \tWeekly infection growth rate: 1213550.000000\n",
      "location:Taiwan \tWeekly infection growth rate: 1.754135\n",
      "location:Japan \tWeekly infection growth rate: 1.384226\n",
      "location:S. Korea \tWeekly infection growth rate: 0.855503\n",
      "location:Thailand \tWeekly infection growth rate: 0.802144\n",
      "location:Singapore \tWeekly infection growth rate: 1.291253\n",
      "location:Malaysia \tWeekly infection growth rate: 1.817244\n",
      "location:India \tWeekly infection growth rate: 0.785020\n",
      "location:Vietnam \tWeekly infection growth rate: 0.774923\n",
      "location:Israel \tWeekly infection growth rate: 1.014921\n",
      "location:Turkey \tWeekly infection growth rate: 1.065074\n",
      "location:Bahrain \tWeekly infection growth rate: 1.025302\n",
      "location:Saudi Arabia \tWeekly infection growth rate: 2.225029\n",
      "location:Iran \tWeekly infection growth rate: 0.971314\n",
      "location:UAE \tWeekly infection growth rate: 1.598208\n",
      "location:Indonesia \tWeekly infection growth rate: 1.538930\n",
      "location:Hong Kong \tWeekly infection growth rate: 0.949136\n",
      "location:China \tWeekly infection growth rate: 0.739954\n",
      "location:Brunei  \tWeekly infection growth rate: 1.545987\n",
      "location:Philippines \tWeekly infection growth rate: 0.989199\n",
      "location:Qatar \tWeekly infection growth rate: 1.665017\n",
      "location:Iraq \tWeekly infection growth rate: 1.697769\n",
      "location:Laos \tWeekly infection growth rate: 0.645933\n",
      "location:Pakistan \tWeekly infection growth rate: 1.953901\n",
      "location:Lebanon \tWeekly infection growth rate: 1.018367\n",
      "location:Afghanistan \tWeekly infection growth rate: 2.620690\n",
      "location:Bangladesh \tWeekly infection growth rate: 2.135922\n",
      "location:Kuwait \tWeekly infection growth rate: 0.359918\n",
      "location:Palestine \tWeekly infection growth rate: 0.709497\n",
      "location:Oman \tWeekly infection growth rate: 0.672222\n",
      "location:Sri Lanka \tWeekly infection growth rate: 0.569767\n",
      "location:Myanmar \tWeekly infection growth rate: 0.619718\n",
      "location:Uzbekistan \tWeekly infection growth rate: 0.752294\n",
      "location:Bhutan \tWeekly infection growth rate: 0.233962\n",
      "location:Kazakhstan \tWeekly infection growth rate: 1.295455\n",
      "location:Nepal \tWeekly infection growth rate: 0.500000\n",
      "location:Armenia \tWeekly infection growth rate: 0.954545\n",
      "location:Syria \tWeekly infection growth rate: 0.393939\n",
      "location:Azerbaijan \tWeekly infection growth rate: 0.113208\n",
      "location:Timor-Leste \tWeekly infection growth rate: 0.363636\n",
      "location:Yemen \tWeekly infection growth rate: 0.000000\n",
      "location:Maldives \tWeekly infection growth rate: 0.000000\n",
      "location:Cyprus \tWeekly infection growth rate: 0.000000\n",
      "location:Cambodia \tWeekly infection growth rate: 0.000000\n"
     ]
    }
   ],
   "source": [
    "# Write Python code for Question 2 here\n",
    "\n",
    "import openpyxl\n",
    "\n",
    "workbook = openpyxl.load_workbook(\"COVID-19-Asia.xlsx\")\n",
    "sheet=workbook[\"covid\"]\n",
    "\n",
    "max_row = sheet.max_row\n",
    "max_column = sheet.max_column\n",
    "\n",
    "#create new worksheet\n",
    "ws1 = workbook.create_sheet(\"Wigr\") \n",
    "\n",
    "# add a column header for Wigr\n",
    "ws1.cell(row=1, column=1).value = \"location\"\n",
    "ws1.cell(row=1, column=2).value = \"Weekly infection growth rate\"\n",
    "\n",
    "for i in range(2, max_row + 1):\n",
    "    \n",
    "    #read cell\n",
    "    location = sheet.cell(row=i, column=2).value \n",
    "    last = sheet.cell(row=i, column=7).value        \n",
    "    preceding = sheet.cell(row=i, column=8).value       \n",
    "    if preceding>0:\n",
    "        a = last/preceding\n",
    "    else :\n",
    "        a = last\n",
    "    \n",
    "    ws1.cell(row=i, column=1).value = location\n",
    "    ws1.cell(row=i, column=2).value = a\n",
    "\n",
    "    print(\"location:%s \\tWeekly infection growth rate: %f\" % (location, a))\n",
    "\n",
    "    workbook.save(\"Wigr_1.xlsx\")\n"
   ]
  },
  {
   "cell_type": "markdown",
   "metadata": {},
   "source": [
    "Question 3a:"
   ]
  },
  {
   "cell_type": "code",
   "execution_count": 6,
   "metadata": {},
   "outputs": [
    {
     "name": "stdout",
     "output_type": "stream",
     "text": [
      "[('sqlite_sequence',), ('locations',)]\n",
      "['id', 'name', 'region', 'cases_per_million', 'wigr']\n",
      "(1, 'DPRK', 'Asia', 46693, 1213550.0)\n",
      "(112, 'Afghanistan', 'Asia', 7, 2.62)\n",
      "(38, 'Saudi Arabia', 'Asia', 108, 2.23)\n",
      "(121, 'Bangladesh', 'Asia', 1, 2.14)\n",
      "(95, 'Pakistan', 'Asia', 2, 1.95)\n",
      "(26, 'Malaysia', 'Asia', 563, 1.82)\n",
      "(3, 'Taiwan', 'Asia', 18108, 1.75)\n",
      "(78, 'Iraq', 'Asia', 20, 1.7)\n",
      "(74, 'Qatar', 'Asia', 359, 1.67)\n",
      "(54, 'UAE', 'Asia', 229, 1.6)\n",
      "(60, 'Brunei', 'Asia', 4152, 1.55)\n",
      "(55, 'Indonesia', 'Asia', 8, 1.54)\n",
      "(6, 'Japan', 'Asia', 2175, 1.38)\n",
      "(155, 'Kazakhstan', 'Asia', 3, 1.3)\n",
      "(24, 'Singapore', 'Asia', 4180, 1.29)\n",
      "(31, 'Turkey', 'Asia', 124, 1.07)\n",
      "(36, 'Bahrain', 'Asia', 2482, 1.03)\n",
      "(99, 'Lebanon', 'Asia', 74, 1.02)\n",
      "(30, 'Israel', 'Asia', 1626, 1.01)\n",
      "(71, 'Philippines', 'Asia', 10, 0.99)\n"
     ]
    }
   ],
   "source": [
    "#retrieve data from SQL\n",
    "\n",
    "import sqlite3\n",
    "con = sqlite3.connect(\"database_wigr.db\")\n",
    "cursor = con.cursor()\n",
    "\n",
    "cursor.execute(\"SELECT name FROM sqlite_master WHERE type='table';\")\n",
    "print(cursor.fetchall())\n",
    "\n",
    "cursor.execute(\"SELECT * FROM locations\")\n",
    "names = list(map(lambda x: x[0], cursor.description))\n",
    "print(names)\n",
    "\n",
    "for row in cursor.execute('SELECT * FROM locations WHERE region =\"Asia\" ORDER BY wigr DESC LIMIT 20'):\n",
    "        print(row)"
   ]
  },
  {
   "cell_type": "code",
   "execution_count": 20,
   "metadata": {},
   "outputs": [
    {
     "data": {
      "image/png": "[encoded data removed]",
      "text/plain": [
       "<Figure size 1152x720 with 1 Axes>"
      ]
     },
     "metadata": {
      "needs_background": "light"
     },
     "output_type": "display_data"
    }
   ],
   "source": [
    "#create scatter plot\n",
    "\n",
    "import matplotlib.pyplot as plt\n",
    "import numpy as np\n",
    "\n",
    "#def graph_data():\n",
    "cursor.execute('SELECT * FROM locations WHERE region =\"Asia\" ORDER BY wigr DESC LIMIT 20')\n",
    "data = cursor.fetchall()\n",
    "\n",
    "cases_per_million = []\n",
    "wigr = []\n",
    "name = []\n",
    "#annotations=name\n",
    "\n",
    "for row in data:\n",
    "    cases_per_million.append(row[3])\n",
    "    wigr.append((row[4]))\n",
    "    name.append((row[1]))\n",
    "\n",
    "# plotting a line plot after changing it's width and height\n",
    "f = plt.figure()\n",
    "f.set_figwidth(16)\n",
    "f.set_figheight(10)\n",
    "\n",
    "plt.title(\"Scatter Plot with annotations\",fontsize=15)\n",
    "\n",
    "plt.scatter(cases_per_million,wigr)\n",
    "\n",
    "for i, txt in enumerate(name):\n",
    "    plt.annotate(txt, (cases_per_million[i], wigr[i]))\n",
    "\n",
    "# Set axes\n",
    "plt.ylim(0.75, 2.75)\n",
    "plt.xlim(-1000, 20000)\n",
    "\n",
    "# naming the x axis\n",
    "plt.xlabel('cases_per_million')\n",
    "# naming the y axis\n",
    "plt.ylabel('wigr')\n",
    "\n",
    "plt.savefig('scatter.png')\n",
    "plt.show()"
   ]
  },
  {
   "cell_type": "markdown",
   "metadata": {},
   "source": [
    "Question 3b:"
   ]
  },
  {
   "cell_type": "code",
   "execution_count": 21,
   "metadata": {},
   "outputs": [
    {
     "name": "stdout",
     "output_type": "stream",
     "text": [
      "['id', 'name', 'region', 'cases_per_million', 'wigr']\n",
      "╒══════╤══════════════╤══════════╤═════════════════════╤═════════════╕\n",
      "│   id │ name         │ region   │   cases_per_million │        wigr │\n",
      "╞══════╪══════════════╪══════════╪═════════════════════╪═════════════╡\n",
      "│    1 │ DPRK         │ Asia     │               46693 │ 1.21355e+06 │\n",
      "├──────┼──────────────┼──────────┼─────────────────────┼─────────────┤\n",
      "│  112 │ Afghanistan  │ Asia     │                   7 │ 2.62        │\n",
      "├──────┼──────────────┼──────────┼─────────────────────┼─────────────┤\n",
      "│   38 │ Saudi Arabia │ Asia     │                 108 │ 2.23        │\n",
      "├──────┼──────────────┼──────────┼─────────────────────┼─────────────┤\n",
      "│  121 │ Bangladesh   │ Asia     │                   1 │ 2.14        │\n",
      "├──────┼──────────────┼──────────┼─────────────────────┼─────────────┤\n",
      "│   95 │ Pakistan     │ Asia     │                   2 │ 1.95        │\n",
      "├──────┼──────────────┼──────────┼─────────────────────┼─────────────┤\n",
      "│   26 │ Malaysia     │ Asia     │                 563 │ 1.82        │\n",
      "├──────┼──────────────┼──────────┼─────────────────────┼─────────────┤\n",
      "│    3 │ Taiwan       │ Asia     │               18108 │ 1.75        │\n",
      "├──────┼──────────────┼──────────┼─────────────────────┼─────────────┤\n",
      "│   78 │ Iraq         │ Asia     │                  20 │ 1.7         │\n",
      "├──────┼──────────────┼──────────┼─────────────────────┼─────────────┤\n",
      "│   74 │ Qatar        │ Asia     │                 359 │ 1.67        │\n",
      "├──────┼──────────────┼──────────┼─────────────────────┼─────────────┤\n",
      "│   54 │ UAE          │ Asia     │                 229 │ 1.6         │\n",
      "├──────┼──────────────┼──────────┼─────────────────────┼─────────────┤\n",
      "│   60 │ Brunei       │ Asia     │                4152 │ 1.55        │\n",
      "├──────┼──────────────┼──────────┼─────────────────────┼─────────────┤\n",
      "│   55 │ Indonesia    │ Asia     │                   8 │ 1.54        │\n",
      "├──────┼──────────────┼──────────┼─────────────────────┼─────────────┤\n",
      "│    6 │ Japan        │ Asia     │                2175 │ 1.38        │\n",
      "├──────┼──────────────┼──────────┼─────────────────────┼─────────────┤\n",
      "│  155 │ Kazakhstan   │ Asia     │                   3 │ 1.3         │\n",
      "├──────┼──────────────┼──────────┼─────────────────────┼─────────────┤\n",
      "│   24 │ Singapore    │ Asia     │                4180 │ 1.29        │\n",
      "├──────┼──────────────┼──────────┼─────────────────────┼─────────────┤\n",
      "│   31 │ Turkey       │ Asia     │                 124 │ 1.07        │\n",
      "├──────┼──────────────┼──────────┼─────────────────────┼─────────────┤\n",
      "│   36 │ Bahrain      │ Asia     │                2482 │ 1.03        │\n",
      "├──────┼──────────────┼──────────┼─────────────────────┼─────────────┤\n",
      "│   99 │ Lebanon      │ Asia     │                  74 │ 1.02        │\n",
      "├──────┼──────────────┼──────────┼─────────────────────┼─────────────┤\n",
      "│   30 │ Israel       │ Asia     │                1626 │ 1.01        │\n",
      "├──────┼──────────────┼──────────┼─────────────────────┼─────────────┤\n",
      "│   71 │ Philippines  │ Asia     │                  10 │ 0.99        │\n",
      "╘══════╧══════════════╧══════════╧═════════════════════╧═════════════╛\n"
     ]
    }
   ],
   "source": [
    "# Write Python code for Question 3b here\n",
    "\n",
    "#create table\n",
    "#!pip install tabulate\n",
    "\n",
    "from tabulate import tabulate\n",
    "\n",
    "cursor.execute('SELECT * FROM locations WHERE region =\"Asia\" ORDER BY wigr DESC LIMIT 20')\n",
    "data = cursor.fetchall()\n",
    "\n",
    "cursor.execute(\"SELECT * FROM locations\")\n",
    "names = list(map(lambda x: x[0], cursor.description))\n",
    "print(names)\n",
    "\n",
    "print(tabulate(data, headers=names, tablefmt='fancy_grid'))\n",
    "\n",
    "\n"
   ]
  },
  {
   "cell_type": "code",
   "execution_count": 22,
   "metadata": {},
   "outputs": [],
   "source": [
    "import pandas as pd\n",
    "import dataframe_image as dfi\n",
    "\n",
    "cursor.execute('SELECT * FROM locations WHERE region =\"Asia\" ORDER BY wigr DESC LIMIT 20')\n",
    "data = cursor.fetchall()\n",
    "\n",
    "names = list(map(lambda x: x[0], cursor.description))\n",
    "\n",
    "df=pd.DataFrame(data,columns=names)\n",
    "\n",
    "dfi.export(df, \"table3.png\")\n",
    "\n"
   ]
  },
  {
   "cell_type": "code",
   "execution_count": 23,
   "metadata": {},
   "outputs": [
    {
     "data": {
      "text/plain": [
       "''"
      ]
     },
     "execution_count": 23,
     "metadata": {},
     "output_type": "execute_result"
    }
   ],
   "source": [
    "#create pdf\n",
    "\n",
    "\n",
    "import fpdf\n",
    "\n",
    "#create a new pdf\n",
    "document = fpdf.FPDF()\n",
    "\n",
    "#define font and color for title and add the first page\n",
    "document.set_font(\"Times\",\"B\", 14)\n",
    "document.set_text_color(19,83,173)\n",
    "document.add_page()\n",
    "\n",
    "#write the title of the document\n",
    "document.cell(0,5,\"WIGR\")\n",
    "document.ln()\n",
    "#add a image\n",
    "document.image(\"scatter.png\", x=10, y=15, w=190)\n",
    "\n",
    "document.add_page()\n",
    "#add a table as image\n",
    "document.image(\"table3.png\", x=10, y=15, w=90)\n",
    "document.set_y(140); \n",
    "\n",
    "#save the document\n",
    "document.output(\"pdf_WIGR_Report.pdf\")"
   ]
  }
 ],
 "metadata": {
  "interpreter": {
   "hash": "ad2bdc8ecc057115af97d19610ffacc2b4e99fae6737bb82f5d7fb13d2f2c186"
  },
  "kernelspec": {
   "display_name": "Python 3.9.7 ('base')",
   "language": "python",
   "name": "python3"
  },
  "language_info": {
   "codemirror_mode": {
    "name": "ipython",
    "version": 3
   },
   "file_extension": ".py",
   "mimetype": "text/x-python",
   "name": "python",
   "nbconvert_exporter": "python",
   "pygments_lexer": "ipython3",
   "version": "3.9.7"
  },
  "orig_nbformat": 4
 },
 "nbformat": 4,
 "nbformat_minor": 2
}
